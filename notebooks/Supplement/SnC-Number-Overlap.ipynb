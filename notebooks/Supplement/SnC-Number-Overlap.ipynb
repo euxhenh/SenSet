{
 "cells": [
  {
   "cell_type": "code",
   "execution_count": 1,
   "id": "788c04de",
   "metadata": {},
   "outputs": [],
   "source": [
    "import anndata\n",
    "import pandas as pd\n",
    "import numpy as np\n",
    "import seaborn as sns\n",
    "import matplotlib.pyplot as plt\n",
    "import scanpy as sc\n",
    "import gseapy as gp\n",
    "\n",
    "from src.plotter import savefig"
   ]
  },
  {
   "cell_type": "code",
   "execution_count": 2,
   "id": "fe5703b6",
   "metadata": {},
   "outputs": [],
   "source": [
    "senset = np.array(open(\"resources/SenSet.txt\").read().splitlines())"
   ]
  },
  {
   "cell_type": "code",
   "execution_count": 3,
   "id": "89e3b79a",
   "metadata": {},
   "outputs": [],
   "source": [
    "raw = pd.read_excel(\"resources/Figure4-source-data.xlsx\", skiprows=21, nrows=12, index_col=0).reset_index(drop=True)\n",
    "raw.rename(columns={'Unnamed: 1': 'Subject'}, inplace=True)"
   ]
  },
  {
   "cell_type": "code",
   "execution_count": 4,
   "id": "5393ab4c",
   "metadata": {},
   "outputs": [
    {
     "data": {
      "text/html": [
       "<div>\n",
       "<style scoped>\n",
       "    .dataframe tbody tr th:only-of-type {\n",
       "        vertical-align: middle;\n",
       "    }\n",
       "\n",
       "    .dataframe tbody tr th {\n",
       "        vertical-align: top;\n",
       "    }\n",
       "\n",
       "    .dataframe thead th {\n",
       "        text-align: right;\n",
       "    }\n",
       "</style>\n",
       "<table border=\"1\" class=\"dataframe\">\n",
       "  <thead>\n",
       "    <tr style=\"text-align: right;\">\n",
       "      <th></th>\n",
       "      <th>Subject</th>\n",
       "      <th>Age</th>\n",
       "      <th>Bleo Control</th>\n",
       "      <th>Bleomycin</th>\n",
       "      <th>Doxo Control</th>\n",
       "      <th>Doxo</th>\n",
       "    </tr>\n",
       "  </thead>\n",
       "  <tbody>\n",
       "    <tr>\n",
       "      <th>0</th>\n",
       "      <td>LTC 113</td>\n",
       "      <td>56.0</td>\n",
       "      <td>1.345755</td>\n",
       "      <td>4.179196</td>\n",
       "      <td>1.649503</td>\n",
       "      <td>3.278194</td>\n",
       "    </tr>\n",
       "    <tr>\n",
       "      <th>1</th>\n",
       "      <td>LTC 117</td>\n",
       "      <td>73.0</td>\n",
       "      <td>1.360171</td>\n",
       "      <td>2.585023</td>\n",
       "      <td>0.547613</td>\n",
       "      <td>1.540433</td>\n",
       "    </tr>\n",
       "    <tr>\n",
       "      <th>2</th>\n",
       "      <td>LTC 119</td>\n",
       "      <td>38.0</td>\n",
       "      <td>NaN</td>\n",
       "      <td>NaN</td>\n",
       "      <td>0.387924</td>\n",
       "      <td>0.826125</td>\n",
       "    </tr>\n",
       "    <tr>\n",
       "      <th>3</th>\n",
       "      <td>LTC 120</td>\n",
       "      <td>21.0</td>\n",
       "      <td>0.355945</td>\n",
       "      <td>2.230044</td>\n",
       "      <td>NaN</td>\n",
       "      <td>NaN</td>\n",
       "    </tr>\n",
       "    <tr>\n",
       "      <th>4</th>\n",
       "      <td>LTC 121</td>\n",
       "      <td>62.0</td>\n",
       "      <td>1.178557</td>\n",
       "      <td>3.072720</td>\n",
       "      <td>NaN</td>\n",
       "      <td>NaN</td>\n",
       "    </tr>\n",
       "    <tr>\n",
       "      <th>5</th>\n",
       "      <td>LTC 124</td>\n",
       "      <td>36.0</td>\n",
       "      <td>1.760405</td>\n",
       "      <td>2.053929</td>\n",
       "      <td>0.988968</td>\n",
       "      <td>2.563190</td>\n",
       "    </tr>\n",
       "    <tr>\n",
       "      <th>6</th>\n",
       "      <td>LTC 127</td>\n",
       "      <td>41.0</td>\n",
       "      <td>0.079512</td>\n",
       "      <td>3.969642</td>\n",
       "      <td>1.600759</td>\n",
       "      <td>1.825554</td>\n",
       "    </tr>\n",
       "    <tr>\n",
       "      <th>7</th>\n",
       "      <td>LTC 137</td>\n",
       "      <td>78.0</td>\n",
       "      <td>0.919656</td>\n",
       "      <td>2.600700</td>\n",
       "      <td>0.825232</td>\n",
       "      <td>1.994843</td>\n",
       "    </tr>\n",
       "    <tr>\n",
       "      <th>8</th>\n",
       "      <td>AVERAGE</td>\n",
       "      <td>NaN</td>\n",
       "      <td>1.000000</td>\n",
       "      <td>2.955894</td>\n",
       "      <td>1.000000</td>\n",
       "      <td>2.004723</td>\n",
       "    </tr>\n",
       "    <tr>\n",
       "      <th>9</th>\n",
       "      <td>Standard deviation</td>\n",
       "      <td>NaN</td>\n",
       "      <td>NaN</td>\n",
       "      <td>0.830854</td>\n",
       "      <td>NaN</td>\n",
       "      <td>0.845041</td>\n",
       "    </tr>\n",
       "    <tr>\n",
       "      <th>10</th>\n",
       "      <td>TOTAL n #</td>\n",
       "      <td>NaN</td>\n",
       "      <td>7.000000</td>\n",
       "      <td>7.000000</td>\n",
       "      <td>6.000000</td>\n",
       "      <td>6.000000</td>\n",
       "    </tr>\n",
       "  </tbody>\n",
       "</table>\n",
       "</div>"
      ],
      "text/plain": [
       "               Subject   Age  Bleo Control  Bleomycin  Doxo Control      Doxo\n",
       "0              LTC 113  56.0      1.345755   4.179196      1.649503  3.278194\n",
       "1              LTC 117  73.0      1.360171   2.585023      0.547613  1.540433\n",
       "2              LTC 119  38.0           NaN        NaN      0.387924  0.826125\n",
       "3              LTC 120  21.0      0.355945   2.230044           NaN       NaN\n",
       "4              LTC 121  62.0      1.178557   3.072720           NaN       NaN\n",
       "5              LTC 124  36.0      1.760405   2.053929      0.988968  2.563190\n",
       "6              LTC 127  41.0      0.079512   3.969642      1.600759  1.825554\n",
       "7              LTC 137  78.0      0.919656   2.600700      0.825232  1.994843\n",
       "8              AVERAGE   NaN      1.000000   2.955894      1.000000  2.004723\n",
       "9   Standard deviation   NaN           NaN   0.830854           NaN  0.845041\n",
       "10           TOTAL n #   NaN      7.000000   7.000000      6.000000  6.000000"
      ]
     },
     "execution_count": 4,
     "metadata": {},
     "output_type": "execute_result"
    }
   ],
   "source": [
    "raw"
   ]
  },
  {
   "cell_type": "code",
   "execution_count": 5,
   "id": "35db71a2",
   "metadata": {},
   "outputs": [],
   "source": [
    "subj_to_ratio = []\n",
    "for i, row in raw.iterrows():\n",
    "    if not row['Subject'].startswith('LTC'):\n",
    "        continue\n",
    "    if not pd.isna(row['Bleo Control']):\n",
    "        subj_to_ratio.append({\n",
    "            \"Subject\": row['Subject'],\n",
    "            \"Condition\": 'Bleo',\n",
    "            \"Fold Change\": row['Bleomycin'] / row['Bleo Control'],\n",
    "        })\n",
    "    if not pd.isna(row['Doxo Control']):\n",
    "        subj_to_ratio.append({\n",
    "            \"Subject\": row['Subject'],\n",
    "            \"Condition\": 'Doxo',\n",
    "            \"Fold Change\": row['Doxo'] / row['Doxo Control'],\n",
    "        })\n",
    "subj_to_ratio = pd.DataFrame(subj_to_ratio)"
   ]
  },
  {
   "cell_type": "code",
   "execution_count": 6,
   "id": "8d19df62",
   "metadata": {},
   "outputs": [
    {
     "data": {
      "text/plain": [
       "array(['LTC 113', 'LTC 117', 'LTC 119', 'LTC 120', 'LTC 121', 'LTC 124',\n",
       "       'LTC 127', 'LTC 137'], dtype=object)"
      ]
     },
     "execution_count": 6,
     "metadata": {},
     "output_type": "execute_result"
    }
   ],
   "source": [
    "subj_to_ratio['Subject'].unique()"
   ]
  },
  {
   "cell_type": "code",
   "execution_count": 7,
   "id": "4355b733",
   "metadata": {},
   "outputs": [],
   "source": [
    "def split_and_map(v):\n",
    "    cond, subject = v.split('_')\n",
    "    if cond == 'control' and subject[0] == 'E':\n",
    "        return f\"{subject} (Rad control)\"\n",
    "    if cond == 'control':\n",
    "        return f\"{subject} (Bleo control)\"\n",
    "    if cond == 'dmso':\n",
    "        return f\"{subject} (Doxo control)\"\n",
    "    if cond == 'doxo':\n",
    "        return f\"{subject} (Doxo)\"\n",
    "    if cond == 'bleo':\n",
    "        return f\"{subject} (Bleo)\"\n",
    "    assert cond == 'rad', cond\n",
    "    return f\"{subject} (Rad)\""
   ]
  },
  {
   "cell_type": "code",
   "execution_count": 8,
   "id": "655d400f",
   "metadata": {},
   "outputs": [],
   "source": [
    "adata = anndata.read_h5ad('data/Integrated-annotated.h5ad')"
   ]
  },
  {
   "cell_type": "code",
   "execution_count": 9,
   "id": "3c59001b",
   "metadata": {},
   "outputs": [],
   "source": [
    "obs = adata.obs.copy()\n",
    "obs['sample'] = pd.Categorical(\n",
    "    obs['batch_ID'].map(split_and_map),\n",
    "    categories=[\n",
    "        \"LTC120 (Bleo control)\",\n",
    "        \"LTC124 (Bleo control)\",\n",
    "        \"LTC113 (Bleo control)\",\n",
    "        \"LTC117 (Bleo control)\",\n",
    "        \"LTC120 (Bleo)\",\n",
    "        \"LTC124 (Bleo)\",\n",
    "        \"LTC113 (Bleo)\",\n",
    "        \"LTC117 (Bleo)\",\n",
    "        \"LTC124 (Doxo control)\",\n",
    "        \"LTC113 (Doxo control)\",\n",
    "        \"LTC117 (Doxo control)\",\n",
    "        \"LTC124 (Doxo)\",\n",
    "        \"LTC113 (Doxo)\",\n",
    "        \"LTC117 (Doxo)\",\n",
    "        \"E170 (Rad control)\",\n",
    "        \"E185 (Rad control)\",\n",
    "        \"E187 (Rad control)\",\n",
    "        \"E196 (Rad control)\",\n",
    "        \"E170 (Rad)\",\n",
    "        \"E185 (Rad)\",\n",
    "        \"E187 (Rad)\",\n",
    "        \"E196 (Rad)\",\n",
    "    ]\n",
    ")\n",
    "adata.obs['sample'] = obs['sample']"
   ]
  },
  {
   "cell_type": "code",
   "execution_count": 10,
   "id": "fc90542d",
   "metadata": {},
   "outputs": [],
   "source": [
    "sc.pp.log1p(adata)"
   ]
  },
  {
   "cell_type": "code",
   "execution_count": 11,
   "id": "efeb8945",
   "metadata": {},
   "outputs": [],
   "source": [
    "def plot_subject(subj, cond, gene):\n",
    "    ctrl_adata = adata[adata.obs['sample'] == f\"{subj} ({cond} control)\", gene].copy()\n",
    "    cond_adata = adata[adata.obs['sample'] == f\"{subj} ({cond})\", gene].copy()\n",
    "    x_ctrl = ctrl_adata.X.toarray().ravel()\n",
    "    x_cond = cond_adata.X.toarray().ravel()\n",
    "    cond_name = [f\"{cond} control\"] * len(x_ctrl) + [cond] * len(x_cond)\n",
    "\n",
    "    positive_cells_ctrl = (x_ctrl > 0).mean()\n",
    "    positive_cells_cond = (x_cond > 0).mean()\n",
    "    return positive_cells_cond / positive_cells_ctrl"
   ]
  },
  {
   "cell_type": "code",
   "execution_count": 12,
   "id": "2d77ec43",
   "metadata": {},
   "outputs": [],
   "source": [
    "subj_to_ratio[\"Level\"] = \"IHF\"\n",
    "patients = [\"LTC 113\", \"LTC 117\", \"LTC 120\", \"LTC 124\", \"LTC 113\", \"LTC 117\", \"LTC 124\"]\n",
    "subj_to_ratio = subj_to_ratio[subj_to_ratio['Subject'].isin(patients)]"
   ]
  },
  {
   "cell_type": "code",
   "execution_count": 13,
   "id": "cb9387ec",
   "metadata": {},
   "outputs": [
    {
     "data": {
      "text/html": [
       "<div>\n",
       "<style scoped>\n",
       "    .dataframe tbody tr th:only-of-type {\n",
       "        vertical-align: middle;\n",
       "    }\n",
       "\n",
       "    .dataframe tbody tr th {\n",
       "        vertical-align: top;\n",
       "    }\n",
       "\n",
       "    .dataframe thead th {\n",
       "        text-align: right;\n",
       "    }\n",
       "</style>\n",
       "<table border=\"1\" class=\"dataframe\">\n",
       "  <thead>\n",
       "    <tr style=\"text-align: right;\">\n",
       "      <th></th>\n",
       "      <th>Subject</th>\n",
       "      <th>Condition</th>\n",
       "      <th>Fold Change</th>\n",
       "      <th>Level</th>\n",
       "    </tr>\n",
       "  </thead>\n",
       "  <tbody>\n",
       "    <tr>\n",
       "      <th>0</th>\n",
       "      <td>LTC 113</td>\n",
       "      <td>Bleo</td>\n",
       "      <td>3.105467</td>\n",
       "      <td>IHF</td>\n",
       "    </tr>\n",
       "    <tr>\n",
       "      <th>1</th>\n",
       "      <td>LTC 113</td>\n",
       "      <td>Doxo</td>\n",
       "      <td>1.987383</td>\n",
       "      <td>IHF</td>\n",
       "    </tr>\n",
       "    <tr>\n",
       "      <th>2</th>\n",
       "      <td>LTC 117</td>\n",
       "      <td>Bleo</td>\n",
       "      <td>1.900514</td>\n",
       "      <td>IHF</td>\n",
       "    </tr>\n",
       "    <tr>\n",
       "      <th>3</th>\n",
       "      <td>LTC 117</td>\n",
       "      <td>Doxo</td>\n",
       "      <td>2.812994</td>\n",
       "      <td>IHF</td>\n",
       "    </tr>\n",
       "    <tr>\n",
       "      <th>5</th>\n",
       "      <td>LTC 120</td>\n",
       "      <td>Bleo</td>\n",
       "      <td>6.265136</td>\n",
       "      <td>IHF</td>\n",
       "    </tr>\n",
       "    <tr>\n",
       "      <th>7</th>\n",
       "      <td>LTC 124</td>\n",
       "      <td>Bleo</td>\n",
       "      <td>1.166737</td>\n",
       "      <td>IHF</td>\n",
       "    </tr>\n",
       "    <tr>\n",
       "      <th>8</th>\n",
       "      <td>LTC 124</td>\n",
       "      <td>Doxo</td>\n",
       "      <td>2.591782</td>\n",
       "      <td>IHF</td>\n",
       "    </tr>\n",
       "  </tbody>\n",
       "</table>\n",
       "</div>"
      ],
      "text/plain": [
       "   Subject Condition  Fold Change Level\n",
       "0  LTC 113      Bleo     3.105467   IHF\n",
       "1  LTC 113      Doxo     1.987383   IHF\n",
       "2  LTC 117      Bleo     1.900514   IHF\n",
       "3  LTC 117      Doxo     2.812994   IHF\n",
       "5  LTC 120      Bleo     6.265136   IHF\n",
       "7  LTC 124      Bleo     1.166737   IHF\n",
       "8  LTC 124      Doxo     2.591782   IHF"
      ]
     },
     "execution_count": 13,
     "metadata": {},
     "output_type": "execute_result"
    }
   ],
   "source": [
    "subj_to_ratio"
   ]
  },
  {
   "cell_type": "code",
   "execution_count": 14,
   "id": "f05d7d6d",
   "metadata": {},
   "outputs": [],
   "source": [
    "fc = []\n",
    "for patient, cond in zip(patients, [\"Bleo\"] * 4 + [\"Doxo\"] * 3):\n",
    "    rat = plot_subject(patient.replace(\" \", \"\"), cond, \"CDKN1A\")\n",
    "    fc.append({\n",
    "        \"Subject\": patient,\n",
    "        \"Condition\": cond,\n",
    "        \"Fold Change\": rat,\n",
    "        \"Level\": \"single-nuc\",\n",
    "    })\n",
    "fc = pd.DataFrame(fc)"
   ]
  },
  {
   "cell_type": "code",
   "execution_count": 15,
   "id": "af3c80ff",
   "metadata": {},
   "outputs": [],
   "source": [
    "results = pd.concat([subj_to_ratio, fc])"
   ]
  },
  {
   "cell_type": "code",
   "execution_count": 16,
   "id": "24823f3e",
   "metadata": {},
   "outputs": [],
   "source": [
    "subj_to_ratio.sort_values([\"Subject\", \"Condition\"], inplace=True, ignore_index=True)\n",
    "fc.sort_values([\"Subject\", \"Condition\"], inplace=True, ignore_index=True)\n",
    "\n",
    "assert subj_to_ratio[\"Subject\"].equals(fc[\"Subject\"])\n",
    "assert subj_to_ratio[\"Condition\"].equals(fc[\"Condition\"])"
   ]
  },
  {
   "cell_type": "code",
   "execution_count": 17,
   "id": "72d55d30",
   "metadata": {},
   "outputs": [],
   "source": [
    "data = pd.concat([subj_to_ratio.add_prefix(\"IHF-\"), fc.add_prefix(\"sn-\")], axis=1)"
   ]
  },
  {
   "cell_type": "code",
   "execution_count": 112,
   "id": "fb12efe6",
   "metadata": {},
   "outputs": [],
   "source": [
    "data.to_csv(\"resources/IHF-Single-Nuc-Correlation.csv\")"
   ]
  },
  {
   "cell_type": "code",
   "execution_count": 18,
   "id": "82d4572c",
   "metadata": {},
   "outputs": [
    {
     "data": {
      "image/png": "[encoded data removed]",
      "text/plain": [
       "<Figure size 500x500 with 1 Axes>"
      ]
     },
     "metadata": {},
     "output_type": "display_data"
    }
   ],
   "source": [
    "fig, ax = plt.subplots(figsize=(5, 5))\n",
    "\n",
    "sns.scatterplot(\n",
    "    data,\n",
    "    x=\"IHF-Fold Change\",\n",
    "    y=\"sn-Fold Change\",\n",
    "    style=\"sn-Condition\",\n",
    "    hue=\"sn-Subject\",\n",
    "    s=100,\n",
    ")\n",
    "\n",
    "ax.set_xlabel(\"IHF Fold Change\", fontsize=12)\n",
    "ax.set_ylabel(\"Single-nuc Fold Change\", fontsize=12)\n",
    "ax.legend(fontsize=12)\n",
    "\n",
    "ax.set_title(\"Single-nuc vs IHF Fold Change Correlation\", fontsize=12)\n",
    "\n",
    "sns.despine()\n",
    "# savefig(\"figures/Supplement/chunks/sn-IHF-correlation.pdf\")\n",
    "plt.show()"
   ]
  },
  {
   "cell_type": "markdown",
   "id": "d16d6720",
   "metadata": {},
   "source": [
    "## ssGSEA"
   ]
  },
  {
   "cell_type": "code",
   "execution_count": 19,
   "id": "32d837fd",
   "metadata": {},
   "outputs": [],
   "source": [
    "sc.pp.filter_genes(adata, min_counts=500)"
   ]
  },
  {
   "cell_type": "code",
   "execution_count": null,
   "id": "e78f1c78",
   "metadata": {},
   "outputs": [],
   "source": [
    "def ave_logfc(subj, cond):\n",
    "    ctrl_adata = adata[adata.obs['sample'] == f\"{subj} ({cond} control)\", senset].copy()\n",
    "    cond_adata = adata[adata.obs['sample'] == f\"{subj} ({cond})\", senset].copy()\n",
    "\n",
    "    x1 = (ctrl_adata.X > 0).mean(0)\n",
    "    x2 = (cond_adata.X > 0).mean(0)\n",
    "\n",
    "    rat = np.asarray(x2 / x1).ravel()\n",
    "    return rat.mean()"
   ]
  },
  {
   "cell_type": "code",
   "execution_count": 137,
   "id": "e7e19fbd",
   "metadata": {},
   "outputs": [
    {
     "data": {
      "text/plain": [
       "np.float32(1.2562833)"
      ]
     },
     "execution_count": 137,
     "metadata": {},
     "output_type": "execute_result"
    }
   ],
   "source": [
    "ave_logfc(\"LTC113\", \"Bleo\")"
   ]
  },
  {
   "cell_type": "code",
   "execution_count": 69,
   "id": "68b26c73",
   "metadata": {},
   "outputs": [
    {
     "name": "stderr",
     "output_type": "stream",
     "text": [
      "/var/folders/b_/1w737bbn611fq7bhjvy_zm240000gn/T/ipykernel_92699/902573994.py:2: SettingWithCopyWarning: \n",
      "A value is trying to be set on a copy of a slice from a DataFrame.\n",
      "Try using .loc[row_indexer,col_indexer] = value instead\n",
      "\n",
      "See the caveats in the documentation: https://pandas.pydata.org/pandas-docs/stable/user_guide/indexing.html#returning-a-view-versus-a-copy\n",
      "  bb['sample'] = bb['sample'].cat.remove_unused_categories()\n"
     ]
    }
   ],
   "source": [
    "bb = obs[obs['sample'].str.startswith('LTC113')]\n",
    "bb['sample'] = bb['sample'].cat.remove_unused_categories()"
   ]
  },
  {
   "cell_type": "code",
   "execution_count": 70,
   "id": "c844a76a",
   "metadata": {},
   "outputs": [
    {
     "name": "stderr",
     "output_type": "stream",
     "text": [
      "/var/folders/b_/1w737bbn611fq7bhjvy_zm240000gn/T/ipykernel_92699/1059201266.py:1: FutureWarning: The default of observed=False is deprecated and will be changed to True in a future version of pandas. Pass observed=False to retain current behavior or observed=True to adopt the future default and silence this warning.\n",
      "  bb.groupby('sample').mean(True)['SenSet score']\n"
     ]
    },
    {
     "data": {
      "text/plain": [
       "sample\n",
       "LTC113 (Bleo control)    0.269783\n",
       "LTC113 (Bleo)            0.282639\n",
       "LTC113 (Doxo control)    0.335258\n",
       "LTC113 (Doxo)            0.388239\n",
       "Name: SenSet score, dtype: float32"
      ]
     },
     "execution_count": 70,
     "metadata": {},
     "output_type": "execute_result"
    }
   ],
   "source": [
    "bb.groupby('sample').mean(True)['SenSet score']"
   ]
  },
  {
   "cell_type": "code",
   "execution_count": 53,
   "id": "42a9c0a3",
   "metadata": {},
   "outputs": [
    {
     "data": {
      "text/plain": [
       "<Axes: xlabel='SenSet score', ylabel='Count'>"
      ]
     },
     "execution_count": 53,
     "metadata": {},
     "output_type": "execute_result"
    },
    {
     "data": {
      "image/png": "[encoded data removed]",
      "text/plain": [
       "<Figure size 640x480 with 1 Axes>"
      ]
     },
     "metadata": {},
     "output_type": "display_data"
    }
   ],
   "source": [
    "sns.histplot(\n",
    "    bb,\n",
    "    x=\"SenSet score\",\n",
    "    hue=\"sample\",\n",
    ")"
   ]
  },
  {
   "cell_type": "code",
   "execution_count": 45,
   "id": "d638070a",
   "metadata": {},
   "outputs": [
    {
     "data": {
      "text/plain": [
       "<Axes: >"
      ]
     },
     "execution_count": 45,
     "metadata": {},
     "output_type": "execute_result"
    },
    {
     "data": {
      "image/png": "[encoded data removed]",
      "text/plain": [
       "<Figure size 640x480 with 1 Axes>"
      ]
     },
     "metadata": {},
     "output_type": "display_data"
    }
   ],
   "source": [
    "adata.obs['SenSet score'].hist()"
   ]
  },
  {
   "cell_type": "code",
   "execution_count": 43,
   "id": "e558d5a5",
   "metadata": {},
   "outputs": [
    {
     "data": {
      "text/plain": [
       "array([0.47169811, 0.5       , 0.05660377, ..., 0.36792453, 0.26415094,\n",
       "       0.14150943], shape=(196565,))"
      ]
     },
     "execution_count": 43,
     "metadata": {},
     "output_type": "execute_result"
    }
   ],
   "source": [
    "ave_score"
   ]
  },
  {
   "cell_type": "code",
   "execution_count": 108,
   "id": "56743cb2",
   "metadata": {},
   "outputs": [],
   "source": [
    "gene_sets = {'SenSet': senset}\n",
    "\n",
    "def ss_adata(subj, cond):\n",
    "    idx_control = (adata.obs['sample'] == f\"{subj} ({cond} control)\").values.nonzero()[0]\n",
    "    idx_treat = (adata.obs['sample'] == f\"{subj} ({cond})\").values.nonzero()[0]\n",
    "\n",
    "    rand_control = np.random.choice(idx_control, size=1000, replace=False)\n",
    "    rand_treat = np.random.choice(idx_treat, size=1000, replace=False)\n",
    "    rand_idx = np.concatenate([rand_control, rand_treat])\n",
    "\n",
    "    ad = adata[rand_idx]\n",
    "    assert ad.obs['sample'].unique().size == 2\n",
    "\n",
    "    expr = pd.DataFrame(\n",
    "        ad.X.T.toarray() if hasattr(ad.X, \"toarray\") else ad.X.T,\n",
    "        index=ad.var_names,\n",
    "        columns=ad.obs_names\n",
    "    )\n",
    "    print(f\"Analyzing matrix of shape {expr.shape}\")\n",
    "\n",
    "    ss = gp.ssgsea(\n",
    "        data=expr,\n",
    "        gene_sets=gene_sets,\n",
    "        sample_norm_method='rank',   # ranks each cell’s genes\n",
    "        outdir=None,                 # don’t write files\n",
    "        min_size=5,                  # drop any gene‐sets <5 genes\n",
    "        max_size=5000,\n",
    "        permutation_num=0,           # no permutations needed for a score\n",
    "        no_plot=True,\n",
    "        threads=4,\n",
    "    )\n",
    "    df = ss.res2d\n",
    "    df[\"Condition\"] = ad.obs[\"sample\"].values\n",
    "    return df"
   ]
  },
  {
   "cell_type": "code",
   "execution_count": 109,
   "id": "fd2a1838",
   "metadata": {},
   "outputs": [
    {
     "name": "stdout",
     "output_type": "stream",
     "text": [
      "Analyzing matrix of shape (22923, 2000)\n"
     ]
    }
   ],
   "source": [
    "ss = ss_adata(\"LTC113\", \"Bleo\")"
   ]
  },
  {
   "cell_type": "code",
   "execution_count": 110,
   "id": "14cf6b18",
   "metadata": {},
   "outputs": [
    {
     "data": {
      "text/plain": [
       "<Axes: xlabel='NES', ylabel='Count'>"
      ]
     },
     "execution_count": 110,
     "metadata": {},
     "output_type": "execute_result"
    },
    {
     "data": {
      "image/png": "[encoded data removed]",
      "text/plain": [
       "<Figure size 640x480 with 1 Axes>"
      ]
     },
     "metadata": {},
     "output_type": "display_data"
    }
   ],
   "source": [
    "sns.histplot(\n",
    "    ss,\n",
    "    x=\"NES\",\n",
    "    hue=\"Condition\",\n",
    ")"
   ]
  },
  {
   "cell_type": "code",
   "execution_count": 36,
   "id": "b80ad324",
   "metadata": {},
   "outputs": [
    {
     "data": {
      "text/html": [
       "<div>\n",
       "<style scoped>\n",
       "    .dataframe tbody tr th:only-of-type {\n",
       "        vertical-align: middle;\n",
       "    }\n",
       "\n",
       "    .dataframe tbody tr th {\n",
       "        vertical-align: top;\n",
       "    }\n",
       "\n",
       "    .dataframe thead th {\n",
       "        text-align: right;\n",
       "    }\n",
       "</style>\n",
       "<table border=\"1\" class=\"dataframe\">\n",
       "  <thead>\n",
       "    <tr style=\"text-align: right;\">\n",
       "      <th></th>\n",
       "      <th>Name</th>\n",
       "      <th>Term</th>\n",
       "      <th>ES</th>\n",
       "      <th>NES</th>\n",
       "      <th>Condition</th>\n",
       "    </tr>\n",
       "  </thead>\n",
       "  <tbody>\n",
       "    <tr>\n",
       "      <th>0</th>\n",
       "      <td>CTACAGAGTCAGTCTA-1</td>\n",
       "      <td>SenSet</td>\n",
       "      <td>7217.442551</td>\n",
       "      <td>0.94169</td>\n",
       "      <td>LTC113 (Bleo control)</td>\n",
       "    </tr>\n",
       "    <tr>\n",
       "      <th>1</th>\n",
       "      <td>TGGTGATCACTATCGA-1</td>\n",
       "      <td>SenSet</td>\n",
       "      <td>6776.065833</td>\n",
       "      <td>0.884102</td>\n",
       "      <td>LTC113 (Bleo control)</td>\n",
       "    </tr>\n",
       "    <tr>\n",
       "      <th>2</th>\n",
       "      <td>TCCGATCAGGCTGAAC-1</td>\n",
       "      <td>SenSet</td>\n",
       "      <td>6357.850499</td>\n",
       "      <td>0.829536</td>\n",
       "      <td>LTC113 (Bleo control)</td>\n",
       "    </tr>\n",
       "    <tr>\n",
       "      <th>3</th>\n",
       "      <td>TCATTCAGTCATCCGG-1</td>\n",
       "      <td>SenSet</td>\n",
       "      <td>6147.835676</td>\n",
       "      <td>0.802134</td>\n",
       "      <td>LTC113 (Bleo control)</td>\n",
       "    </tr>\n",
       "    <tr>\n",
       "      <th>4</th>\n",
       "      <td>CATTCATCATGACGGA-1</td>\n",
       "      <td>SenSet</td>\n",
       "      <td>5643.112124</td>\n",
       "      <td>0.736281</td>\n",
       "      <td>LTC113 (Bleo control)</td>\n",
       "    </tr>\n",
       "    <tr>\n",
       "      <th>...</th>\n",
       "      <td>...</td>\n",
       "      <td>...</td>\n",
       "      <td>...</td>\n",
       "      <td>...</td>\n",
       "      <td>...</td>\n",
       "    </tr>\n",
       "    <tr>\n",
       "      <th>1995</th>\n",
       "      <td>ACTTCGCTCTGACAGT-1-1</td>\n",
       "      <td>SenSet</td>\n",
       "      <td>-21.846415</td>\n",
       "      <td>-0.00285</td>\n",
       "      <td>LTC113 (Bleo)</td>\n",
       "    </tr>\n",
       "    <tr>\n",
       "      <th>1996</th>\n",
       "      <td>CAGCACGCAGCCGGTT-1</td>\n",
       "      <td>SenSet</td>\n",
       "      <td>9.889599</td>\n",
       "      <td>0.00129</td>\n",
       "      <td>LTC113 (Bleo)</td>\n",
       "    </tr>\n",
       "    <tr>\n",
       "      <th>1997</th>\n",
       "      <td>TCATGGAAGCGCATCC-1</td>\n",
       "      <td>SenSet</td>\n",
       "      <td>2.759448</td>\n",
       "      <td>0.00036</td>\n",
       "      <td>LTC113 (Bleo)</td>\n",
       "    </tr>\n",
       "    <tr>\n",
       "      <th>1998</th>\n",
       "      <td>GACGTTAGTGGTCTCG-1</td>\n",
       "      <td>SenSet</td>\n",
       "      <td>2.39299</td>\n",
       "      <td>0.000312</td>\n",
       "      <td>LTC113 (Bleo)</td>\n",
       "    </tr>\n",
       "    <tr>\n",
       "      <th>1999</th>\n",
       "      <td>CGTAAGTTCAGTGTGT-1</td>\n",
       "      <td>SenSet</td>\n",
       "      <td>2.360519</td>\n",
       "      <td>0.000308</td>\n",
       "      <td>LTC113 (Bleo)</td>\n",
       "    </tr>\n",
       "  </tbody>\n",
       "</table>\n",
       "<p>2000 rows × 5 columns</p>\n",
       "</div>"
      ],
      "text/plain": [
       "                      Name    Term           ES       NES  \\\n",
       "0       CTACAGAGTCAGTCTA-1  SenSet  7217.442551   0.94169   \n",
       "1       TGGTGATCACTATCGA-1  SenSet  6776.065833  0.884102   \n",
       "2       TCCGATCAGGCTGAAC-1  SenSet  6357.850499  0.829536   \n",
       "3       TCATTCAGTCATCCGG-1  SenSet  6147.835676  0.802134   \n",
       "4       CATTCATCATGACGGA-1  SenSet  5643.112124  0.736281   \n",
       "...                    ...     ...          ...       ...   \n",
       "1995  ACTTCGCTCTGACAGT-1-1  SenSet   -21.846415  -0.00285   \n",
       "1996    CAGCACGCAGCCGGTT-1  SenSet     9.889599   0.00129   \n",
       "1997    TCATGGAAGCGCATCC-1  SenSet     2.759448   0.00036   \n",
       "1998    GACGTTAGTGGTCTCG-1  SenSet      2.39299  0.000312   \n",
       "1999    CGTAAGTTCAGTGTGT-1  SenSet     2.360519  0.000308   \n",
       "\n",
       "                  Condition  \n",
       "0     LTC113 (Bleo control)  \n",
       "1     LTC113 (Bleo control)  \n",
       "2     LTC113 (Bleo control)  \n",
       "3     LTC113 (Bleo control)  \n",
       "4     LTC113 (Bleo control)  \n",
       "...                     ...  \n",
       "1995          LTC113 (Bleo)  \n",
       "1996          LTC113 (Bleo)  \n",
       "1997          LTC113 (Bleo)  \n",
       "1998          LTC113 (Bleo)  \n",
       "1999          LTC113 (Bleo)  \n",
       "\n",
       "[2000 rows x 5 columns]"
      ]
     },
     "execution_count": 36,
     "metadata": {},
     "output_type": "execute_result"
    }
   ],
   "source": [
    "ss"
   ]
  }
 ],
 "metadata": {
  "kernelspec": {
   "display_name": "Python 3",
   "language": "python",
   "name": "python3"
  },
  "language_info": {
   "codemirror_mode": {
    "name": "ipython",
    "version": 3
   },
   "file_extension": ".py",
   "mimetype": "text/x-python",
   "name": "python",
   "nbconvert_exporter": "python",
   "pygments_lexer": "ipython3",
   "version": "3.12.10"
  }
 },
 "nbformat": 4,
 "nbformat_minor": 5
}
