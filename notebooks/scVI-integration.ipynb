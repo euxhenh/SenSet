{
 "cells": [
  {
   "cell_type": "code",
   "execution_count": null,
   "metadata": {},
   "outputs": [],
   "source": [
    "from aliases import *\n",
    "import scanpy as sc\n",
    "import scvi"
   ]
  },
  {
   "cell_type": "code",
   "execution_count": null,
   "metadata": {},
   "outputs": [],
   "source": [
    "root_path = Path(os.path.expand(\"~/data/CompBio/SenNet-UPMC\"))\n",
    "\n",
    "data = {\n",
    "    \"control_E170\": root_path / \"Radiation/E170-0Gy_SenNet_051523_CR710/filtered_feature_bc_matrix.h5\",\n",
    "    \"rad_E170\": root_path / \"Radiation/E170-30Gy_SenNet_051523_CR710/filtered_feature_bc_matrix.h5\",\n",
    "    \"control_E185\": root_path / \"/Radiation/E185-0Gy_SenNet_051523_CR710/filtered_feature_bc_matrix.h5\",\n",
    "    \"rad_E185\": root_path / \"Radiation/E185-30Gy_SenNet_051523_CR710/filtered_feature_bc_matrix.h5\",\n",
    "    \"control_E187\": root_path / \"Radiation/E187-0Gy_SenNet_051523_CR710/filtered_feature_bc_matrix.h5\",\n",
    "    \"rad_E187\": root_path / \"Radiation/E187-30Gy_SenNet_051523_CR710/filtered_feature_bc_matrix.h5\",\n",
    "    \"control_E196\": root_path / \"Radiation/E196_0Gy_LAF5556A15/outs/filtered_feature_bc_matrix.h5\",\n",
    "    \"rad_E196\": root_path / \"Radiation/E196_30Gy_LAF5556A16/outs/filtered_feature_bc_matrix.h5\",\n",
    "    \"control_LTC113\": root_path / \"LTC-113/LTC-113_Control_042123_SenNet_CR710/filtered_feature_bc_matrix.h5\",\n",
    "    \"bleo_LTC113\": root_path / \"LTC-113/LTC-113_Bleo15_042123_SenNet_CR710/filtered_feature_bc_matrix.h5\",\n",
    "    \"dmso_LTC113\": root_path / \"LTC-113/LTC-113_DMSO_042123_SenNet_CR710/filtered_feature_bc_matrix.h5\",\n",
    "    \"doxo_LTC113\": root_path / \"LTC-113/LTC-113_Doxo0_1_042123_SenNet_CR710/filtered_feature_bc_matrix.h5\",\n",
    "    \"control_LTC117\": root_path / \"LTC-117/LTC-117_Control_042123_SenNet_CR710/filtered_feature_bc_matrix.h5\",\n",
    "    \"bleo_LTC117\": root_path / \"LTC-117/LTC-117_Bleo15_042123_SenNet_CR710/filtered_feature_bc_matrix.h5\",\n",
    "    \"dmso_LTC117\": root_path / \"LTC-117/LTC-117_DMSO_042123_SenNet_CR710/filtered_feature_bc_matrix.h5\",\n",
    "    \"doxo_LTC117\": root_path / \"LTC-117/LTC-117_Doxo0_1_042123_SenNet_CR710/filtered_feature_bc_matrix.h5\",\n",
    "    \"control_LTC120\": root_path / \"LTC-120/LTC-120_Control-POS_LAF5556A9/outs/filtered_feature_bc_matrix.h5\",\n",
    "    \"bleo_LTC120\": root_path / \"LTC-120/LTC-120_Bleo_15_LAF5556A10/outs/filtered_feature_bc_matrix.h5\",\n",
    "    \"control_LTC124\": root_path / \"LTC-124/LTC-124_Control_LAF5556A11/outs/filtered_feature_bc_matrix.h5\",\n",
    "    \"bleo_LTC124\": root_path / \"LTC-124/LTC-124_Bleo_15_LAF5556A12/outs/filtered_feature_bc_matrix.h5\",\n",
    "    \"dmso_LTC124\": root_path / \"LTC-124/LTC-124_DMSO_LAF5556A13/outs/filtered_feature_bc_matrix.h5\",\n",
    "    \"doxo_LTC124\": root_path / \"LTC-124/LTC-124_Doxo_LAF5556A14/outs/filtered_feature_bc_matrix.h5\",\n",
    "}"
   ]
  },
  {
   "cell_type": "markdown",
   "metadata": {},
   "source": [
    "## Load adatas and integrate"
   ]
  },
  {
   "cell_type": "code",
   "execution_count": null,
   "metadata": {},
   "outputs": [],
   "source": [
    "adatas = []\n",
    "\n",
    "for key, val in data.items():\n",
    "    adata = sc.read_10x_h5(val)\n",
    "    adata.var_names_make_unique()\n",
    "    adata.obs['batch_ID'] = key  # important for integration\n",
    "    adatas.append(adata)"
   ]
  },
  {
   "cell_type": "code",
   "execution_count": null,
   "metadata": {},
   "outputs": [],
   "source": [
    "adata = anndata.concat(adatas)\n",
    "adata.obs_names_make_unique()"
   ]
  },
  {
   "cell_type": "code",
   "execution_count": null,
   "metadata": {},
   "outputs": [],
   "source": [
    "adata.raw = adata  # keep full dimension safe\n",
    "sc.pp.highly_variable_genes(\n",
    "    adata,\n",
    "    flavor=\"seurat_v3\",\n",
    "    n_top_genes=2000,\n",
    "    subset=True,  # need to add all genes back after integration manually\n",
    ")"
   ]
  },
  {
   "cell_type": "markdown",
   "metadata": {},
   "source": [
    "## Run scVI"
   ]
  },
  {
   "cell_type": "markdown",
   "metadata": {},
   "source": [
    "Following instructions from https://docs.scvi-tools.org/en/stable/tutorials/notebooks/scrna/harmonization.html"
   ]
  },
  {
   "cell_type": "code",
   "execution_count": null,
   "metadata": {},
   "outputs": [],
   "source": [
    "scvi.model.SCVI.setup_anndata(adata, batch_key=\"batch_ID\")\n",
    "model = scvi.model.SCVI(adata, n_layers=2, n_latent=30, n_hidden=1000, gene_likelihood=\"zinb\")"
   ]
  },
  {
   "cell_type": "code",
   "execution_count": null,
   "metadata": {},
   "outputs": [],
   "source": [
    "model.train(use_gpu=True)"
   ]
  },
  {
   "cell_type": "code",
   "execution_count": null,
   "metadata": {},
   "outputs": [],
   "source": [
    "SCVI_LATENT_KEY = \"X_scVI\"\n",
    "adata.obsm[SCVI_LATENT_KEY] = model.get_latent_representation()"
   ]
  },
  {
   "cell_type": "code",
   "execution_count": null,
   "metadata": {},
   "outputs": [],
   "source": [
    "sc.pp.neighbors(adata, use_rep=SCVI_LATENT_KEY)\n",
    "sc.tl.leiden(adata)\n",
    "sc.tl.umap(adata)"
   ]
  },
  {
   "cell_type": "code",
   "execution_count": null,
   "metadata": {},
   "outputs": [],
   "source": [
    "adata.obs['condition'] = np.where((adata.obs['batch_ID'].str.contains('control')\n",
    "                                    | adata.obs['batch_ID'].str.contains('dmso')),\n",
    "                                  'Control', 'Treatment')"
   ]
  },
  {
   "cell_type": "code",
   "execution_count": null,
   "metadata": {},
   "outputs": [],
   "source": [
    "cond = np.asarray([v[0] for v in adata.obs['batch_ID'].str.split('_')], dtype=object)\n",
    "cond[cond == 'control'] = 'Control'\n",
    "cond[cond == 'doxo'] = 'Doxo'\n",
    "cond[cond == 'bleo'] = 'Bleo'\n",
    "cond[cond == 'dmso'] = 'DMSO'\n",
    "cond[cond == 'rad'] = 'Rad'\n",
    "adata.obs['cond'] = pd.Categorical(cond, categories=['Control', 'Bleo', 'DMSO', 'Doxo', 'Rad'])"
   ]
  },
  {
   "cell_type": "code",
   "execution_count": null,
   "metadata": {},
   "outputs": [],
   "source": [
    "sc.tl.leiden(adata, resolution=1, key_added=\"leiden\")"
   ]
  },
  {
   "cell_type": "code",
   "execution_count": null,
   "metadata": {},
   "outputs": [],
   "source": [
    "## Add back all genes"
   ]
  }
 ],
 "metadata": {
  "kernelspec": {
   "display_name": "Python 3",
   "language": "python",
   "name": "python3"
  },
  "language_info": {
   "codemirror_mode": {
    "name": "ipython",
    "version": 3
   },
   "file_extension": ".py",
   "mimetype": "text/x-python",
   "name": "python",
   "nbconvert_exporter": "python",
   "pygments_lexer": "ipython3",
   "version": "3.10.14"
  }
 },
 "nbformat": 4,
 "nbformat_minor": 2
}
