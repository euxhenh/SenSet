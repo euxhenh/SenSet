{
 "cells": [
  {
   "cell_type": "code",
   "execution_count": 1,
   "metadata": {},
   "outputs": [],
   "source": [
    "import os\n",
    "import pickle\n",
    "from collections import Counter\n",
    "\n",
    "import numpy as np\n",
    "import pandas as pd\n",
    "from tqdm.auto import tqdm\n",
    "\n",
    "npu = np.unique\n",
    "npi = np.intersect1d\n",
    "npc = np.concatenate\n",
    "\n",
    "from senset import HLCA, PUC_ct, DE_test_ct, SncGeneSets, get_top_markers\n",
    "from senset.utils import construct_PU_results_table\n",
    "from senset.plots import pairwise_overlap_heatmap"
   ]
  },
  {
   "cell_type": "markdown",
   "metadata": {},
   "source": [
    "## 1. Load Senescence gene sets\n",
    "\n",
    "The file containing all four marker sets is in `data/senescence_list.xlsx`.\n",
    "\n",
    "These include the following\n",
    "\n",
    "- GO:0090398 (https://academic.oup.com/bioinformatics/article/25/2/288/220714)\n",
    "- Fridman (https://www.nature.com/articles/onc2008213)\n",
    "- SenMayo (https://www.nature.com/articles/s41467-022-32552-1)\n",
    "- CellAge (https://genomebiology.biomedcentral.com/articles/10.1186/s13059-020-01990-9)\n",
    "\n",
    "For the GO set, genes with symbol equal to NA were removed. We do not\n",
    "remove downregulated genes. If you choose to do so, this will affect\n",
    "Fridman (where only genes with `'Regulation' == 'UP'` are kept) and CellAge (where\n",
    "only genes with `'Senescence Effect' == 'Induces'` are kept)."
   ]
  },
  {
   "cell_type": "code",
   "execution_count": null,
   "metadata": {},
   "outputs": [],
   "source": [
    "SNC = SncGeneSets(remove_downregulated=False)  # Load 4 existing lists\n",
    "print(SNC)"
   ]
  },
  {
   "cell_type": "code",
   "execution_count": null,
   "metadata": {},
   "outputs": [],
   "source": [
    "pairwise_overlap_heatmap(\n",
    "    [getattr(SNC, gene_set) for gene_set in SNC.gene_sets],\n",
    "    ticklabels=SNC.gene_sets,\n",
    ")"
   ]
  },
  {
   "cell_type": "markdown",
   "metadata": {},
   "source": [
    "## 2. Load the Human Lung Cell Atlas (HLCA)\n",
    "\n",
    "Data can be downloaded from\n",
    "https://data.humancellatlas.org/hca-bio-networks/lung/atlases/lung-v1-0.\n",
    "We only use the `core` dataset.\n",
    "\n",
    "By default, we remove patients with `age == NA` (only 1) and also remove\n",
    "active or former smokers. A few donors have 'smoking_status' = NA, so we\n",
    "removed these too."
   ]
  },
  {
   "cell_type": "code",
   "execution_count": null,
   "metadata": {},
   "outputs": [],
   "source": [
    "hlca = HLCA('../SenSet/data/HLCA.h5ad', remove_nan_age=True, remove_smokers=True)\n",
    "adata = hlca.adata"
   ]
  },
  {
   "cell_type": "code",
   "execution_count": null,
   "metadata": {},
   "outputs": [],
   "source": [
    "A1, A2 = 30, 50\n",
    "print(f\"\"\"\n",
    "    N. cells = {adata.shape[0]}\n",
    "    N. genes = {adata.shape[1]}\n",
    "    N. cell types = {np.unique(adata.obs['cell_type']).size}\n",
    "    N. donors = {np.unique(adata.obs['donor_id']).size}\n",
    "    Min age = {np.min(hlca.age)}\n",
    "    Max age = {np.max(hlca.age)}\n",
    "    N. donors (a < {A1}) yo = {len([v for v in hlca.donor_age if v[1] < A1])}\n",
    "    N. donors ({A1} <= a < {A2}) yo = {len([v for v in hlca.donor_age if v[1] >= A1 and v[1] < A2])}\n",
    "    N. donors (a >= {A2}) yo = {len([v for v in hlca.donor_age if v[1] >= A2])}\n",
    "\"\"\")"
   ]
  },
  {
   "cell_type": "markdown",
   "metadata": {},
   "source": [
    "## 3. PUc Learning\n",
    "\n",
    "For each cell type in the atlas, we reduce to $k$ components via PCA and\n",
    "use this lower dimensional representation as input to the PUc learner.\n",
    "Here, we run PCA on known senescence markers only. The prior (fraction of\n",
    "healthy cells in the older groups) is set to 0.9."
   ]
  },
  {
   "cell_type": "code",
   "execution_count": 6,
   "metadata": {},
   "outputs": [],
   "source": [
    "extension = \"SNC-known-pca=10-prior=0.9-no-smoker\""
   ]
  },
  {
   "cell_type": "code",
   "execution_count": null,
   "metadata": {},
   "outputs": [],
   "source": [
    "PUc_results = {}\n",
    "\n",
    "for cell_type in tqdm(np.unique(adata.obs['cell_type'])):\n",
    "    PUc_results[cell_type] = PUC_ct(\n",
    "        adata, cell_type,\n",
    "        age_thresh=(A1, A2),\n",
    "        n_components=10,  # PCA components\n",
    "        known_markers=SNC.union,  # set to None to use all genes for PUc\n",
    "        prior=0.9,\n",
    "    )\n",
    "\n",
    "os.makedirs('dumps', exist_ok=True)\n",
    "with open(f'dumps/PU-{extension}.pkl', 'wb') as f:\n",
    "    pickle.dump(PUc_results, f)"
   ]
  },
  {
   "cell_type": "code",
   "execution_count": 7,
   "metadata": {},
   "outputs": [],
   "source": [
    "# with open(f\"dumps/PU-{extension}.pkl\", \"rb\") as f:\n",
    "#     PUc_results = pickle.load(f)"
   ]
  },
  {
   "cell_type": "code",
   "execution_count": 8,
   "metadata": {},
   "outputs": [],
   "source": [
    "table_df = construct_PU_results_table(PUc_results)\n",
    "table_df.to_csv(f'dumps/table-df-{extension}.csv')"
   ]
  },
  {
   "cell_type": "markdown",
   "metadata": {},
   "source": [
    "## 4. DE Tests\n",
    "\n",
    "For each cell type, we perform a ranksum test to determine differentially\n",
    "expressed genes. Known markers are used only. Alternatively, one can test all\n",
    "the genes in the atlas (even if PUc was ran on known markers only)."
   ]
  },
  {
   "cell_type": "code",
   "execution_count": null,
   "metadata": {},
   "outputs": [],
   "source": [
    "test_results = {}\n",
    "for cell_type, result in tqdm(PUc_results.items()):\n",
    "    if result is None:\n",
    "        continue\n",
    "    test_results[cell_type] = DE_test_ct(\n",
    "        adata, cell_type,\n",
    "        PUc_results[cell_type],\n",
    "        min_n_snc_cells=10,  # min n cells per DE test\n",
    "        known_markers=SNC.union,  # set to None for DE on full transcriptome\n",
    "    )\n",
    "\n",
    "with open(f'dumps/DE-test-results-{extension}.pkl', 'wb') as f:\n",
    "    pickle.dump(test_results, f)"
   ]
  },
  {
   "cell_type": "code",
   "execution_count": 11,
   "metadata": {},
   "outputs": [],
   "source": [
    "# with open(f'dumps/DE-test-results-{extension}.pkl', 'rb') as f:\n",
    "#     test_results = pickle.load(f)"
   ]
  },
  {
   "cell_type": "markdown",
   "metadata": {},
   "source": [
    "## 5. SenSet Construction\n",
    "\n",
    "Select the top differentially expressed genes. We take all genes with\n",
    "$\\text{FDR}<0.05$ and then select the ones showing enrichment in most cell types."
   ]
  },
  {
   "cell_type": "code",
   "execution_count": 10,
   "metadata": {},
   "outputs": [],
   "source": [
    "# Use K=0 to take all that are significant\n",
    "de_results = get_top_markers(test_results, K=0, Q=0.05, use_statistic=True)"
   ]
  },
  {
   "cell_type": "code",
   "execution_count": null,
   "metadata": {},
   "outputs": [],
   "source": [
    "MIN_CELL_TYPES = 6  # Adjust this number to select varying number of genes\n",
    "counts = Counter(npc([val['all'] for val in de_results.values()]))\n",
    "senset = np.asarray([v[0] for v in counts.most_common() if v[1] >= MIN_CELL_TYPES])\n",
    "senset.sort()\n",
    "print(f\"Found {len(senset)} marker genes.\")"
   ]
  },
  {
   "cell_type": "markdown",
   "metadata": {},
   "source": [
    "### Dump SenSet into a txt file"
   ]
  },
  {
   "cell_type": "code",
   "execution_count": 44,
   "metadata": {},
   "outputs": [],
   "source": [
    "with open(f\"dumps/SenSet-{extension}.txt\", \"w\") as f:\n",
    "    f.write(senset[0])\n",
    "    for gene in senset[1:]:\n",
    "        f.write(f\"\\n{gene}\")"
   ]
  }
 ],
 "metadata": {
  "kernelspec": {
   "display_name": "Python 3",
   "language": "python",
   "name": "python3"
  },
  "language_info": {
   "codemirror_mode": {
    "name": "ipython",
    "version": 3
   },
   "file_extension": ".py",
   "mimetype": "text/x-python",
   "name": "python",
   "nbconvert_exporter": "python",
   "pygments_lexer": "ipython3",
   "version": "3.10.14"
  }
 },
 "nbformat": 4,
 "nbformat_minor": 2
}
